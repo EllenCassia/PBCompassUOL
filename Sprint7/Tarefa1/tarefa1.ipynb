{
 "cells": [
  {
   "cell_type": "code",
   "execution_count": null,
   "metadata": {},
   "outputs": [],
   "source": [
    "import pandas as pd"
   ]
  },
  {
   "cell_type": "code",
   "execution_count": 2,
   "metadata": {},
   "outputs": [],
   "source": [
    "df = pd.read_csv('actors.csv')"
   ]
  },
  {
   "cell_type": "code",
   "execution_count": 9,
   "metadata": {},
   "outputs": [
    {
     "name": "stdout",
     "output_type": "stream",
     "text": [
      "                     Actor  Total Gross  Number of Movies  Average per Movie  \\\n",
      "0            Harrison Ford       4871.7                41              118.8   \n",
      "1        Samuel L. Jackson       4772.8                69               69.2   \n",
      "2           Morgan Freeman       4468.3                61               73.3   \n",
      "3                Tom Hanks       4340.8                44               98.7   \n",
      "4       Robert Downey, Jr.       3947.3                53               74.5   \n",
      "5             Eddie Murphy       3810.4                38              100.3   \n",
      "6               Tom Cruise       3587.2                36               99.6   \n",
      "7              Johnny Depp       3368.6                45               74.9   \n",
      "8            Michael Caine       3351.5                58               57.8   \n",
      "9       Scarlett Johansson       3341.2                37               90.3   \n",
      "10             Gary Oldman       3294.0                38               86.7   \n",
      "11          Robin Williams       3279.3                49               66.9   \n",
      "12            Bruce Willis       3189.4                60               53.2   \n",
      "13       Stellan Skarsgard       3175.0                43               73.8   \n",
      "14         Anthony Daniels       3162.9                 7              451.8   \n",
      "15            Ian McKellen       3150.4                31              101.6   \n",
      "16              Will Smith       3149.1                24              131.2   \n",
      "17           Stanley Tucci       3123.9                50               62.5   \n",
      "18              Matt Damon       3107.3                39               79.7   \n",
      "19           Robert DeNiro       3081.3                79               39.0   \n",
      "20            Cameron Diaz       3031.7                34               89.2   \n",
      "21             Liam Neeson       2942.7                63               46.7   \n",
      "22             Andy Serkis       2890.6                23              125.7   \n",
      "23             Don Cheadle       2885.4                34               84.9   \n",
      "24             Ben Stiller       2827.0                37               76.4   \n",
      "25    Helena Bonham Carter       2822.0                36               78.4   \n",
      "26           Orlando Bloom       2815.8                17              165.6   \n",
      "27         Woody Harrelson       2815.8                50               56.3   \n",
      "28          Cate Blanchett       2802.6                39               71.9   \n",
      "29           Julia Roberts       2735.3                42               65.1   \n",
      "30         Elizabeth Banks       2726.3                35               77.9   \n",
      "31           Ralph Fiennes       2715.3                36               75.4   \n",
      "32             Emma Watson       2681.9                17              157.8   \n",
      "33         Tommy Lee Jones       2681.3                46               58.3   \n",
      "34               Brad Pitt       2680.9                40               67.0   \n",
      "35            Adam Sandler       2661.0                32               83.2   \n",
      "36        Daniel Radcliffe       2634.4                17              155.0   \n",
      "37              Jonah Hill       2605.1                29               89.8   \n",
      "38             Owen Wilson       2602.3                39               66.7   \n",
      "39              Idris Elba       2580.6                26               99.3   \n",
      "40          Bradley Cooper       2557.7                25              102.3   \n",
      "41           Mark Wahlberg       2549.8                36               70.8   \n",
      "42              Jim Carrey       2545.2                27               94.3   \n",
      "43          Dustin Hoffman       2522.1                43               58.7   \n",
      "44       Leonardo DiCaprio       2518.3                25              100.7   \n",
      "45           Jeremy Renner       2500.3                21              119.1   \n",
      "46  Philip Seymour Hoffman       2463.7                40               61.6   \n",
      "47          Sandra Bullock       2462.6                35               70.4   \n",
      "48             Chris Evans       2457.8                23              106.9   \n",
      "49           Anne Hathaway       2416.5                25               96.7   \n",
      "\n",
      "                               #1 Movie  Gross  \n",
      "0          Star Wars: The Force Awakens  936.7  \n",
      "1                          The Avengers  623.4  \n",
      "2                       The Dark Knight  534.9  \n",
      "3                           Toy Story 3  415.0  \n",
      "4                          The Avengers  623.4  \n",
      "5                               Shrek 2  441.2  \n",
      "6                     War of the Worlds  234.3  \n",
      "7                      Dead Man's Chest  423.3  \n",
      "8                       The Dark Knight  534.9  \n",
      "9                          The Avengers  623.4  \n",
      "10                      The Dark Knight  534.9  \n",
      "11                  Night at the Museum  250.9  \n",
      "12                          Sixth Sense  293.5  \n",
      "13                         The Avengers  623.4  \n",
      "14         Star Wars: The Force Awakens  936.7  \n",
      "15                   Return of the King  377.8  \n",
      "16                     Independence Day  306.2  \n",
      "17                        Catching Fire  424.7  \n",
      "18                          The Martian  228.4  \n",
      "19                     Meet the Fockers  279.3  \n",
      "20                              Shrek 2  441.2  \n",
      "21                   The Phantom Menace  474.5  \n",
      "22         Star Wars: The Force Awakens  936.7  \n",
      "23              Avengers: Age of Ultron  459.0  \n",
      "24                     Meet the Fockers  279.3  \n",
      "25  Harry Potter / Deathly Hallows (P2)  381.0  \n",
      "26                     Dead Man's Chest  423.3  \n",
      "27                        Catching Fire  424.7  \n",
      "28                   Return of the King  377.8  \n",
      "29                       Ocean's Eleven  183.4  \n",
      "30                        Catching Fire  424.7  \n",
      "31  Harry Potter / Deathly Hallows (P2)  381.0  \n",
      "32  Harry Potter / Deathly Hallows (P2)  381.0  \n",
      "33                         Men in Black  250.7  \n",
      "34                          World War Z  202.4  \n",
      "35                 Hotel Transylvania 2  169.7  \n",
      "36  Harry Potter / Deathly Hallows (P2)  381.0  \n",
      "37                       The LEGO Movie  257.8  \n",
      "38                  Night at the Museum  250.9  \n",
      "39              Avengers: Age of Ultron  459.0  \n",
      "40                      American Sniper  350.1  \n",
      "41                       Transformers 4  245.4  \n",
      "42                           The Grinch  260.0  \n",
      "43                     Meet the Fockers  279.3  \n",
      "44                              Titanic  658.7  \n",
      "45                         The Avengers  623.4  \n",
      "46                        Catching Fire  424.7  \n",
      "47                              Minions  336.0  \n",
      "48                         The Avengers  623.4  \n",
      "49                The Dark Knight Rises  448.1  \n"
     ]
    }
   ],
   "source": [
    "print(df)"
   ]
  },
  {
   "cell_type": "code",
   "execution_count": 29,
   "metadata": {},
   "outputs": [
    {
     "name": "stdout",
     "output_type": "stream",
     "text": [
      "O actor com mais filmes é Robert DeNiro com 79 filmes\n"
     ]
    }
   ],
   "source": [
    "maior_numero_filmes = df['Number of Movies'].max()\n",
    "actor_com_maiores_filmes = df[df['Number of Movies'] == maior_numero_filmes]['Actor'].values[0]\n",
    "print(f'O actor com mais filmes é {actor_com_maiores_filmes} com {maior_numero_filmes} filmes')"
   ]
  },
  {
   "cell_type": "code",
   "execution_count": 30,
   "metadata": {},
   "outputs": [
    {
     "name": "stdout",
     "output_type": "stream",
     "text": [
      "A média de filmes é 37.88\n"
     ]
    }
   ],
   "source": [
    "media_filmes = df['Number of Movies'].mean()\n",
    "print(f'A média de filmes é {media_filmes}')"
   ]
  },
  {
   "cell_type": "code",
   "execution_count": 38,
   "metadata": {},
   "outputs": [
    {
     "name": "stdout",
     "output_type": "stream",
     "text": [
      "O actor com maior média de filmes é Anthony Daniels com 451.8 filmes\n"
     ]
    }
   ],
   "source": [
    "maior_media_filmes = df['Average per Movie'].max()\n",
    "actor_com_maiores_filmes = df[df['Average per Movie'] == maior_media_filmes]['Actor'].values[0]\n",
    "print(f'O actor com maior média de filmes é {actor_com_maiores_filmes} com {maior_media_filmes} filmes')"
   ]
  },
  {
   "cell_type": "code",
   "execution_count": 53,
   "metadata": {},
   "outputs": [
    {
     "name": "stdout",
     "output_type": "stream",
     "text": [
      "O filme mais frequente é: The Avengers\n"
     ]
    }
   ],
   "source": [
    "grouped = df.groupby('#1 Movie')\n",
    "contagem_de_filmes = grouped['#1 Movie'].count()\n",
    "filme_mais_frequente = contagem_de_filmes.idxmax()\n",
    "print(f'O filme mais frequente é: {filme_mais_frequente}')"
   ]
  }
 ],
 "metadata": {
  "kernelspec": {
   "display_name": "venv",
   "language": "python",
   "name": "python3"
  },
  "language_info": {
   "codemirror_mode": {
    "name": "ipython",
    "version": 3
   },
   "file_extension": ".py",
   "mimetype": "text/x-python",
   "name": "python",
   "nbconvert_exporter": "python",
   "pygments_lexer": "ipython3",
   "version": "3.11.6"
  }
 },
 "nbformat": 4,
 "nbformat_minor": 2
}
